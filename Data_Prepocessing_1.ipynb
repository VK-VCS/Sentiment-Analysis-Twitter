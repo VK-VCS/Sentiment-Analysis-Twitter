{
  "nbformat": 4,
  "nbformat_minor": 0,
  "metadata": {
    "colab": {
      "name": "Data Prepocessing 1.ipynb",
      "provenance": [],
      "authorship_tag": "ABX9TyN1ad/rGy9E3O4/0bqip93S",
      "include_colab_link": true
    },
    "kernelspec": {
      "name": "python3",
      "display_name": "Python 3"
    },
    "language_info": {
      "name": "python"
    }
  },
  "cells": [
    {
      "cell_type": "markdown",
      "metadata": {
        "id": "view-in-github",
        "colab_type": "text"
      },
      "source": [
        "<a href=\"https://colab.research.google.com/github/VK-VCS/Sentiment-Analysis-Twitter/blob/main/Data_Prepocessing_1.ipynb\" target=\"_parent\"><img src=\"https://colab.research.google.com/assets/colab-badge.svg\" alt=\"Open In Colab\"/></a>"
      ]
    },
    {
      "cell_type": "code",
      "execution_count": 1,
      "metadata": {
        "id": "XnBj_OsWDkzx"
      },
      "outputs": [],
      "source": [
        "import nltk"
      ]
    },
    {
      "cell_type": "code",
      "source": [
        "paragraph=\"\"\"\n",
        "There are many variations of passages of Lorem Ipsum available, but the majority have suffered alteration in some form, by injected humour, or randomised words which don't look even slightly believable. If you are going to use a passage of Lorem Ipsum, you need to be sure there isn't anything embarrassing hidden in the middle of text. All the Lorem Ipsum generators on the Internet tend to repeat predefined chunks as necessary, making this the first true generator on the Internet. It uses a dictionary of over 200 Latin words, combined with a handful of model sentence structures, to generate Lorem Ipsum which looks reasonable.\n",
        "\"\"\""
      ],
      "metadata": {
        "id": "xDkkJW-bD2Ft"
      },
      "execution_count": 2,
      "outputs": []
    },
    {
      "cell_type": "code",
      "source": [
        "paragraph"
      ],
      "metadata": {
        "colab": {
          "base_uri": "https://localhost:8080/",
          "height": 88
        },
        "id": "jM5rBnozEPhL",
        "outputId": "c90ae66a-27aa-4763-923e-01f0ebc1fac7"
      },
      "execution_count": 3,
      "outputs": [
        {
          "output_type": "execute_result",
          "data": {
            "text/plain": [
              "\"\\nThere are many variations of passages of Lorem Ipsum available, but the majority have suffered alteration in some form, by injected humour, or randomised words which don't look even slightly believable. If you are going to use a passage of Lorem Ipsum, you need to be sure there isn't anything embarrassing hidden in the middle of text. All the Lorem Ipsum generators on the Internet tend to repeat predefined chunks as necessary, making this the first true generator on the Internet. It uses a dictionary of over 200 Latin words, combined with a handful of model sentence structures, to generate Lorem Ipsum which looks reasonable.\\n\""
            ],
            "application/vnd.google.colaboratory.intrinsic+json": {
              "type": "string"
            }
          },
          "metadata": {},
          "execution_count": 3
        }
      ]
    },
    {
      "cell_type": "code",
      "source": [
        "from nltk.stem import PorterStemmer\n",
        "from nltk.corpus import stopwords"
      ],
      "metadata": {
        "id": "qFWWFCKLERMt"
      },
      "execution_count": 7,
      "outputs": []
    },
    {
      "cell_type": "code",
      "source": [
        "#Tokenization --> Paragraph to sentences to words\n",
        "nltk.download('punkt')\n",
        "sentences=nltk.sent_tokenize(paragraph)\n",
        "sentences"
      ],
      "metadata": {
        "colab": {
          "base_uri": "https://localhost:8080/"
        },
        "id": "4wzDqkiZEmio",
        "outputId": "09c6f2bc-221f-4779-8b88-b968d4a43958"
      },
      "execution_count": 9,
      "outputs": [
        {
          "output_type": "stream",
          "name": "stderr",
          "text": [
            "[nltk_data] Downloading package punkt to /root/nltk_data...\n",
            "[nltk_data]   Unzipping tokenizers/punkt.zip.\n"
          ]
        },
        {
          "output_type": "execute_result",
          "data": {
            "text/plain": [
              "[\"\\nThere are many variations of passages of Lorem Ipsum available, but the majority have suffered alteration in some form, by injected humour, or randomised words which don't look even slightly believable.\",\n",
              " \"If you are going to use a passage of Lorem Ipsum, you need to be sure there isn't anything embarrassing hidden in the middle of text.\",\n",
              " 'All the Lorem Ipsum generators on the Internet tend to repeat predefined chunks as necessary, making this the first true generator on the Internet.',\n",
              " 'It uses a dictionary of over 200 Latin words, combined with a handful of model sentence structures, to generate Lorem Ipsum which looks reasonable.']"
            ]
          },
          "metadata": {},
          "execution_count": 9
        }
      ]
    },
    {
      "cell_type": "code",
      "source": [
        "#stemming\n",
        "stemmer=PorterStemmer()\n",
        "stemmer.stem(\"goes\")"
      ],
      "metadata": {
        "colab": {
          "base_uri": "https://localhost:8080/",
          "height": 36
        },
        "id": "lfKnGoyEFpcG",
        "outputId": "2c3b661c-1b3a-4303-f9e2-bcc671c5a4a0"
      },
      "execution_count": 17,
      "outputs": [
        {
          "output_type": "execute_result",
          "data": {
            "text/plain": [
              "'goe'"
            ],
            "application/vnd.google.colaboratory.intrinsic+json": {
              "type": "string"
            }
          },
          "metadata": {},
          "execution_count": 17
        }
      ]
    },
    {
      "cell_type": "code",
      "source": [
        "#Lemmatization\n",
        "from nltk.stem import WordNetLemmatizer\n",
        "#nltk.download('wordnet')\n",
        "#nltk.download('omw-1.4')\n",
        "lemmatizer=WordNetLemmatizer()\n",
        "lemmatizer.lemmatize(\"goes\")"
      ],
      "metadata": {
        "colab": {
          "base_uri": "https://localhost:8080/",
          "height": 36
        },
        "id": "T2tXhy7xG1DN",
        "outputId": "e09b1ca1-1b78-48bc-e863-110091167b20"
      },
      "execution_count": 19,
      "outputs": [
        {
          "output_type": "execute_result",
          "data": {
            "text/plain": [
              "'go'"
            ],
            "application/vnd.google.colaboratory.intrinsic+json": {
              "type": "string"
            }
          },
          "metadata": {},
          "execution_count": 19
        }
      ]
    },
    {
      "cell_type": "code",
      "source": [
        "#Clean Sentences by removing Non alphabetic characters and convert them to lowe case\n",
        "import re\n",
        "corpus=[]\n",
        "for i in range(len(sentences)):\n",
        "  sent1=re.sub(\"[^A-Za-z]\",' ',sentences[i])\n",
        "  sent2=sent1.lower()\n",
        "  corpus.append(sent2)\n",
        "corpus"
      ],
      "metadata": {
        "colab": {
          "base_uri": "https://localhost:8080/"
        },
        "id": "2yGv4B_DH673",
        "outputId": "b912f7af-7212-4efb-a83c-4296ff4bf600"
      },
      "execution_count": 21,
      "outputs": [
        {
          "output_type": "execute_result",
          "data": {
            "text/plain": [
              "[' there are many variations of passages of lorem ipsum available  but the majority have suffered alteration in some form  by injected humour  or randomised words which don t look even slightly believable ',\n",
              " 'if you are going to use a passage of lorem ipsum  you need to be sure there isn t anything embarrassing hidden in the middle of text ',\n",
              " 'all the lorem ipsum generators on the internet tend to repeat predefined chunks as necessary  making this the first true generator on the internet ',\n",
              " 'it uses a dictionary of over     latin words  combined with a handful of model sentence structures  to generate lorem ipsum which looks reasonable ']"
            ]
          },
          "metadata": {},
          "execution_count": 21
        }
      ]
    },
    {
      "cell_type": "code",
      "source": [
        "nltk.download('stopwords')\n",
        "for i in corpus:\n",
        "  words=nltk.word_tokenize(i)\n",
        "  for word in words:\n",
        "    if word not in set(stopwords.words('english')):\n",
        "        print(stemmer.stem(word))#stemming"
      ],
      "metadata": {
        "colab": {
          "base_uri": "https://localhost:8080/"
        },
        "id": "Bbw1kPw9KIyv",
        "outputId": "8ebfaa77-680c-4a98-b6d0-e3614ba21975"
      },
      "execution_count": 24,
      "outputs": [
        {
          "output_type": "stream",
          "name": "stdout",
          "text": [
            "mani\n",
            "variat\n",
            "passag\n",
            "lorem\n",
            "ipsum\n",
            "avail\n",
            "major\n",
            "suffer\n",
            "alter\n",
            "form\n",
            "inject\n",
            "humour\n",
            "randomis\n",
            "word\n",
            "look\n",
            "even\n",
            "slightli\n",
            "believ\n",
            "go\n",
            "use\n",
            "passag\n",
            "lorem\n",
            "ipsum\n",
            "need\n",
            "sure\n",
            "anyth\n",
            "embarrass\n",
            "hidden\n",
            "middl\n",
            "text\n",
            "lorem\n",
            "ipsum\n",
            "gener\n",
            "internet\n",
            "tend\n",
            "repeat\n",
            "predefin\n",
            "chunk\n",
            "necessari\n",
            "make\n",
            "first\n",
            "true\n",
            "gener\n",
            "internet\n",
            "use\n",
            "dictionari\n",
            "latin\n",
            "word\n",
            "combin\n",
            "hand\n",
            "model\n",
            "sentenc\n",
            "structur\n",
            "gener\n",
            "lorem\n",
            "ipsum\n",
            "look\n",
            "reason\n"
          ]
        },
        {
          "output_type": "stream",
          "name": "stderr",
          "text": [
            "[nltk_data] Downloading package stopwords to /root/nltk_data...\n",
            "[nltk_data]   Unzipping corpora/stopwords.zip.\n"
          ]
        }
      ]
    },
    {
      "cell_type": "code",
      "source": [
        "for i in corpus:\n",
        "  words=nltk.word_tokenize(i)\n",
        "  for word in words:\n",
        "    if word not in set(stopwords.words('english')):\n",
        "        print(lemmatizer.lemmatize(word))#lemmatize"
      ],
      "metadata": {
        "colab": {
          "base_uri": "https://localhost:8080/"
        },
        "id": "nrTJpkVlLlwk",
        "outputId": "12622004-ee0d-422d-bfaa-03dde9aa2f9e"
      },
      "execution_count": 25,
      "outputs": [
        {
          "output_type": "stream",
          "name": "stdout",
          "text": [
            "many\n",
            "variation\n",
            "passage\n",
            "lorem\n",
            "ipsum\n",
            "available\n",
            "majority\n",
            "suffered\n",
            "alteration\n",
            "form\n",
            "injected\n",
            "humour\n",
            "randomised\n",
            "word\n",
            "look\n",
            "even\n",
            "slightly\n",
            "believable\n",
            "going\n",
            "use\n",
            "passage\n",
            "lorem\n",
            "ipsum\n",
            "need\n",
            "sure\n",
            "anything\n",
            "embarrassing\n",
            "hidden\n",
            "middle\n",
            "text\n",
            "lorem\n",
            "ipsum\n",
            "generator\n",
            "internet\n",
            "tend\n",
            "repeat\n",
            "predefined\n",
            "chunk\n",
            "necessary\n",
            "making\n",
            "first\n",
            "true\n",
            "generator\n",
            "internet\n",
            "us\n",
            "dictionary\n",
            "latin\n",
            "word\n",
            "combined\n",
            "handful\n",
            "model\n",
            "sentence\n",
            "structure\n",
            "generate\n",
            "lorem\n",
            "ipsum\n",
            "look\n",
            "reasonable\n"
          ]
        }
      ]
    }
  ]
}